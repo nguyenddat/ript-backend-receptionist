{
 "cells": [
  {
   "cell_type": "code",
   "execution_count": 1,
   "metadata": {},
   "outputs": [
    {
     "name": "stderr",
     "output_type": "stream",
     "text": [
      "d:\\hoc-AI-ML\\ript-receptionist\\ript-receptionist\\Lib\\site-packages\\albumentations\\check_version.py:49: UserWarning: Error fetching version info <urlopen error [Errno 11001] getaddrinfo failed>\n",
      "  data = fetch_version_info()\n"
     ]
    }
   ],
   "source": [
    "import cv2\n",
    "import time\n",
    "from IPython.display import clear_output\n",
    "\n",
    "from server.app.services.ModelManager import ModelManager\n",
    "from server.app.services.ImageManager  import ImageManager"
   ]
  },
  {
   "cell_type": "code",
   "execution_count": null,
   "metadata": {},
   "outputs": [],
   "source": [
    "modelManager = ModelManager(save_model_path = \"./server/app/core/KNNClassifier.pkl\")\n",
    "ImageManager = ImageManager()\n",
    "clear_output()"
   ]
  },
  {
   "cell_type": "code",
   "execution_count": 3,
   "metadata": {},
   "outputs": [],
   "source": [
    "modelManager.load(train_dir = \"./server/app/data\", imageManager = ImageManager)\n",
    "# modelManager.load_new_data(data_dir = \"./server/app/data/123456789\", imageManager = ImageManager)"
   ]
  },
  {
   "cell_type": "code",
   "execution_count": 4,
   "metadata": {},
   "outputs": [
    {
     "name": "stdout",
     "output_type": "stream",
     "text": [
      "(512,)\n",
      "nan\n",
      "[]\n",
      "nan\n",
      "[]\n",
      "['Unknown']\n"
     ]
    },
    {
     "name": "stderr",
     "output_type": "stream",
     "text": [
      "d:\\hoc-AI-ML\\ript-receptionist\\server\\app\\services\\ModelManager.py:42: RuntimeWarning: invalid value encountered in scalar divide\n",
      "  cosine_sim = np.dot(a, b) / (norm(a) * norm(b))\n"
     ]
    },
    {
     "name": "stdout",
     "output_type": "stream",
     "text": [
      "(512,)\n",
      "0.48289028\n",
      "[['001205020978', np.float32(0.48289028)]]\n",
      "0.08493215\n",
      "[['001205020978', np.float32(0.48289028)]]\n",
      "['001205020978']\n",
      "(512,)\n",
      "0.34644032\n",
      "[]\n",
      "0.072963476\n",
      "[]\n",
      "['Unknown']\n",
      "(512,)\n",
      "0.32861912\n",
      "[]\n",
      "0.078511454\n",
      "[]\n",
      "['Unknown']\n"
     ]
    }
   ],
   "source": [
    "cam = cv2.VideoCapture(0)\n",
    "\n",
    "current_time = time.time()\n",
    "while True:\n",
    "    ret, frame = cam.read()\n",
    "    check_time = time.time()\n",
    "    if check_time - current_time > 5:\n",
    "        faces, nums_of_people = modelManager.embed_face(frame)\n",
    "        \n",
    "        results = []\n",
    "        for face in faces:\n",
    "            results.append(modelManager.predict(img_array = face))\n",
    "        print(results)\n",
    "        current_time = time.time()\n",
    "    cv2.imshow(\"camera\", frame)\n",
    "\n",
    "    if cv2.waitKey(1) == ord(\"q\"):\n",
    "        break\n",
    "\n",
    "cam.release()\n",
    "cv2.destroyAllWindows()\n"
   ]
  },
  {
   "cell_type": "code",
   "execution_count": null,
   "metadata": {},
   "outputs": [],
   "source": []
  }
 ],
 "metadata": {
  "kernelspec": {
   "display_name": "ript-receptionist",
   "language": "python",
   "name": "python3"
  },
  "language_info": {
   "codemirror_mode": {
    "name": "ipython",
    "version": 3
   },
   "file_extension": ".py",
   "mimetype": "text/x-python",
   "name": "python",
   "nbconvert_exporter": "python",
   "pygments_lexer": "ipython3",
   "version": "3.11.7"
  }
 },
 "nbformat": 4,
 "nbformat_minor": 2
}
